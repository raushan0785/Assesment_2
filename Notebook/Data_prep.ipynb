{
  "nbformat": 4,
  "nbformat_minor": 0,
  "metadata": {
    "colab": {
      "provenance": []
    },
    "kernelspec": {
      "name": "python3",
      "display_name": "Python 3"
    },
    "language_info": {
      "name": "python"
    }
  },
  "cells": [
    {
      "cell_type": "markdown",
      "source": [
        "\n",
        "\n",
        "**Import the Libraries**\n",
        "\n"
      ],
      "metadata": {
        "id": "EEvYYNrALxPo"
      }
    },
    {
      "cell_type": "code",
      "execution_count": 1,
      "metadata": {
        "id": "mZ9aogR70H0D"
      },
      "outputs": [],
      "source": [
        "import numpy as np\n",
        "import pandas as pd\n",
        "from datetime import timedelta\n",
        "import matplotlib.pyplot as plt"
      ]
    },
    {
      "cell_type": "markdown",
      "source": [
        "**Load The Dataset**"
      ],
      "metadata": {
        "id": "on9JweCUL9xe"
      }
    },
    {
      "cell_type": "code",
      "source": [
        "\n",
        "data = pd.read_csv('Assessment 2 - MMM Weekly.csv')\n",
        "\n",
        "\n",
        "print(data.head())\n",
        "print(data.info())"
      ],
      "metadata": {
        "colab": {
          "base_uri": "https://localhost:8080/"
        },
        "id": "cKnxtvNZ0QTA",
        "outputId": "6d379dfd-9ac4-44f1-e694-e7bce786fbfd"
      },
      "execution_count": 2,
      "outputs": [
        {
          "output_type": "stream",
          "name": "stdout",
          "text": [
            "         week  facebook_spend  google_spend  tiktok_spend  instagram_spend  \\\n",
            "0  2023-09-17         6030.80       3130.14       2993.22          1841.08   \n",
            "1  2023-09-24         5241.44       2704.00          0.00             0.00   \n",
            "2  2023-10-01         5893.00          0.00          0.00             0.00   \n",
            "3  2023-10-08         7167.16          0.00          0.00             0.00   \n",
            "4  2023-10-15         5360.29          0.00          0.00          3237.15   \n",
            "\n",
            "   snapchat_spend  social_followers  average_price  promotions  emails_send  \\\n",
            "0         2204.72                 0         101.95           0       102684   \n",
            "1            0.00                 0         103.86           0        96573   \n",
            "2            0.00                 0         100.38           0        96797   \n",
            "3            0.00                 0         103.14           1        99098   \n",
            "4            0.00                 0         107.76           1       120754   \n",
            "\n",
            "   sms_send   revenue  \n",
            "0     20098  83124.16  \n",
            "1     29920    373.02  \n",
            "2     22304    513.01  \n",
            "3     14171    452.78  \n",
            "4     30207  41441.95  \n",
            "<class 'pandas.core.frame.DataFrame'>\n",
            "RangeIndex: 104 entries, 0 to 103\n",
            "Data columns (total 12 columns):\n",
            " #   Column            Non-Null Count  Dtype  \n",
            "---  ------            --------------  -----  \n",
            " 0   week              104 non-null    object \n",
            " 1   facebook_spend    104 non-null    float64\n",
            " 2   google_spend      104 non-null    float64\n",
            " 3   tiktok_spend      104 non-null    float64\n",
            " 4   instagram_spend   104 non-null    float64\n",
            " 5   snapchat_spend    104 non-null    float64\n",
            " 6   social_followers  104 non-null    int64  \n",
            " 7   average_price     104 non-null    float64\n",
            " 8   promotions        104 non-null    int64  \n",
            " 9   emails_send       104 non-null    int64  \n",
            " 10  sms_send          104 non-null    int64  \n",
            " 11  revenue           104 non-null    float64\n",
            "dtypes: float64(7), int64(4), object(1)\n",
            "memory usage: 9.9+ KB\n",
            "None\n"
          ]
        }
      ]
    },
    {
      "cell_type": "markdown",
      "source": [
        "\n",
        "\n",
        "**Dimension of Dataframe**\n",
        "\n"
      ],
      "metadata": {
        "id": "Yy4eg1-cMEKl"
      }
    },
    {
      "cell_type": "code",
      "source": [
        "data.shape\n"
      ],
      "metadata": {
        "colab": {
          "base_uri": "https://localhost:8080/"
        },
        "id": "AfjBR3vO0ri8",
        "outputId": "c3113db2-be2b-4d99-8c54-7fe7c77e3318"
      },
      "execution_count": 3,
      "outputs": [
        {
          "output_type": "execute_result",
          "data": {
            "text/plain": [
              "(104, 12)"
            ]
          },
          "metadata": {},
          "execution_count": 3
        }
      ]
    },
    {
      "cell_type": "markdown",
      "source": [
        " **Convert 'week' column to datetime format, then sort data by week in ascending order and reset the index**\n"
      ],
      "metadata": {
        "id": "njfFwQpJMg_H"
      }
    },
    {
      "cell_type": "code",
      "source": [
        "data['week'] = pd.to_datetime(data['week'])\n",
        "data = data.sort_values('week').reset_index(drop=True)\n"
      ],
      "metadata": {
        "id": "v_7SWqJI09HW"
      },
      "execution_count": 4,
      "outputs": []
    },
    {
      "cell_type": "markdown",
      "source": [
        "**Check dataset shape, date range, unique/duplicate weeks, and preview basic stats**\n"
      ],
      "metadata": {
        "id": "Km13DZKuNADM"
      }
    },
    {
      "cell_type": "code",
      "source": [
        "print(data.shape)\n",
        "print('start, end:', data['week'].min(), data['week'].max())\n",
        "print('unique weeks:', data['week'].nunique())\n",
        "print('duplicates:', data['week'].duplicated().sum())\n",
        "display(data.head())\n",
        "display(data.describe())\n"
      ],
      "metadata": {
        "colab": {
          "base_uri": "https://localhost:8080/",
          "height": 873
        },
        "id": "7lDGKLko1UKe",
        "outputId": "813f83e2-92f0-4af1-bc74-537fe355ea54"
      },
      "execution_count": 5,
      "outputs": [
        {
          "output_type": "stream",
          "name": "stdout",
          "text": [
            "(104, 12)\n",
            "start, end: 2023-09-17 00:00:00 2025-09-07 00:00:00\n",
            "unique weeks: 104\n",
            "duplicates: 0\n"
          ]
        },
        {
          "output_type": "display_data",
          "data": {
            "text/plain": [
              "        week  facebook_spend  google_spend  tiktok_spend  instagram_spend  \\\n",
              "0 2023-09-17         6030.80       3130.14       2993.22          1841.08   \n",
              "1 2023-09-24         5241.44       2704.00          0.00             0.00   \n",
              "2 2023-10-01         5893.00          0.00          0.00             0.00   \n",
              "3 2023-10-08         7167.16          0.00          0.00             0.00   \n",
              "4 2023-10-15         5360.29          0.00          0.00          3237.15   \n",
              "\n",
              "   snapchat_spend  social_followers  average_price  promotions  emails_send  \\\n",
              "0         2204.72                 0         101.95           0       102684   \n",
              "1            0.00                 0         103.86           0        96573   \n",
              "2            0.00                 0         100.38           0        96797   \n",
              "3            0.00                 0         103.14           1        99098   \n",
              "4            0.00                 0         107.76           1       120754   \n",
              "\n",
              "   sms_send   revenue  \n",
              "0     20098  83124.16  \n",
              "1     29920    373.02  \n",
              "2     22304    513.01  \n",
              "3     14171    452.78  \n",
              "4     30207  41441.95  "
            ],
            "text/html": [
              "\n",
              "  <div id=\"df-b6ed5782-e56a-4a26-9cff-fca6d307d2de\" class=\"colab-df-container\">\n",
              "    <div>\n",
              "<style scoped>\n",
              "    .dataframe tbody tr th:only-of-type {\n",
              "        vertical-align: middle;\n",
              "    }\n",
              "\n",
              "    .dataframe tbody tr th {\n",
              "        vertical-align: top;\n",
              "    }\n",
              "\n",
              "    .dataframe thead th {\n",
              "        text-align: right;\n",
              "    }\n",
              "</style>\n",
              "<table border=\"1\" class=\"dataframe\">\n",
              "  <thead>\n",
              "    <tr style=\"text-align: right;\">\n",
              "      <th></th>\n",
              "      <th>week</th>\n",
              "      <th>facebook_spend</th>\n",
              "      <th>google_spend</th>\n",
              "      <th>tiktok_spend</th>\n",
              "      <th>instagram_spend</th>\n",
              "      <th>snapchat_spend</th>\n",
              "      <th>social_followers</th>\n",
              "      <th>average_price</th>\n",
              "      <th>promotions</th>\n",
              "      <th>emails_send</th>\n",
              "      <th>sms_send</th>\n",
              "      <th>revenue</th>\n",
              "    </tr>\n",
              "  </thead>\n",
              "  <tbody>\n",
              "    <tr>\n",
              "      <th>0</th>\n",
              "      <td>2023-09-17</td>\n",
              "      <td>6030.80</td>\n",
              "      <td>3130.14</td>\n",
              "      <td>2993.22</td>\n",
              "      <td>1841.08</td>\n",
              "      <td>2204.72</td>\n",
              "      <td>0</td>\n",
              "      <td>101.95</td>\n",
              "      <td>0</td>\n",
              "      <td>102684</td>\n",
              "      <td>20098</td>\n",
              "      <td>83124.16</td>\n",
              "    </tr>\n",
              "    <tr>\n",
              "      <th>1</th>\n",
              "      <td>2023-09-24</td>\n",
              "      <td>5241.44</td>\n",
              "      <td>2704.00</td>\n",
              "      <td>0.00</td>\n",
              "      <td>0.00</td>\n",
              "      <td>0.00</td>\n",
              "      <td>0</td>\n",
              "      <td>103.86</td>\n",
              "      <td>0</td>\n",
              "      <td>96573</td>\n",
              "      <td>29920</td>\n",
              "      <td>373.02</td>\n",
              "    </tr>\n",
              "    <tr>\n",
              "      <th>2</th>\n",
              "      <td>2023-10-01</td>\n",
              "      <td>5893.00</td>\n",
              "      <td>0.00</td>\n",
              "      <td>0.00</td>\n",
              "      <td>0.00</td>\n",
              "      <td>0.00</td>\n",
              "      <td>0</td>\n",
              "      <td>100.38</td>\n",
              "      <td>0</td>\n",
              "      <td>96797</td>\n",
              "      <td>22304</td>\n",
              "      <td>513.01</td>\n",
              "    </tr>\n",
              "    <tr>\n",
              "      <th>3</th>\n",
              "      <td>2023-10-08</td>\n",
              "      <td>7167.16</td>\n",
              "      <td>0.00</td>\n",
              "      <td>0.00</td>\n",
              "      <td>0.00</td>\n",
              "      <td>0.00</td>\n",
              "      <td>0</td>\n",
              "      <td>103.14</td>\n",
              "      <td>1</td>\n",
              "      <td>99098</td>\n",
              "      <td>14171</td>\n",
              "      <td>452.78</td>\n",
              "    </tr>\n",
              "    <tr>\n",
              "      <th>4</th>\n",
              "      <td>2023-10-15</td>\n",
              "      <td>5360.29</td>\n",
              "      <td>0.00</td>\n",
              "      <td>0.00</td>\n",
              "      <td>3237.15</td>\n",
              "      <td>0.00</td>\n",
              "      <td>0</td>\n",
              "      <td>107.76</td>\n",
              "      <td>1</td>\n",
              "      <td>120754</td>\n",
              "      <td>30207</td>\n",
              "      <td>41441.95</td>\n",
              "    </tr>\n",
              "  </tbody>\n",
              "</table>\n",
              "</div>\n",
              "    <div class=\"colab-df-buttons\">\n",
              "\n",
              "  <div class=\"colab-df-container\">\n",
              "    <button class=\"colab-df-convert\" onclick=\"convertToInteractive('df-b6ed5782-e56a-4a26-9cff-fca6d307d2de')\"\n",
              "            title=\"Convert this dataframe to an interactive table.\"\n",
              "            style=\"display:none;\">\n",
              "\n",
              "  <svg xmlns=\"http://www.w3.org/2000/svg\" height=\"24px\" viewBox=\"0 -960 960 960\">\n",
              "    <path d=\"M120-120v-720h720v720H120Zm60-500h600v-160H180v160Zm220 220h160v-160H400v160Zm0 220h160v-160H400v160ZM180-400h160v-160H180v160Zm440 0h160v-160H620v160ZM180-180h160v-160H180v160Zm440 0h160v-160H620v160Z\"/>\n",
              "  </svg>\n",
              "    </button>\n",
              "\n",
              "  <style>\n",
              "    .colab-df-container {\n",
              "      display:flex;\n",
              "      gap: 12px;\n",
              "    }\n",
              "\n",
              "    .colab-df-convert {\n",
              "      background-color: #E8F0FE;\n",
              "      border: none;\n",
              "      border-radius: 50%;\n",
              "      cursor: pointer;\n",
              "      display: none;\n",
              "      fill: #1967D2;\n",
              "      height: 32px;\n",
              "      padding: 0 0 0 0;\n",
              "      width: 32px;\n",
              "    }\n",
              "\n",
              "    .colab-df-convert:hover {\n",
              "      background-color: #E2EBFA;\n",
              "      box-shadow: 0px 1px 2px rgba(60, 64, 67, 0.3), 0px 1px 3px 1px rgba(60, 64, 67, 0.15);\n",
              "      fill: #174EA6;\n",
              "    }\n",
              "\n",
              "    .colab-df-buttons div {\n",
              "      margin-bottom: 4px;\n",
              "    }\n",
              "\n",
              "    [theme=dark] .colab-df-convert {\n",
              "      background-color: #3B4455;\n",
              "      fill: #D2E3FC;\n",
              "    }\n",
              "\n",
              "    [theme=dark] .colab-df-convert:hover {\n",
              "      background-color: #434B5C;\n",
              "      box-shadow: 0px 1px 3px 1px rgba(0, 0, 0, 0.15);\n",
              "      filter: drop-shadow(0px 1px 2px rgba(0, 0, 0, 0.3));\n",
              "      fill: #FFFFFF;\n",
              "    }\n",
              "  </style>\n",
              "\n",
              "    <script>\n",
              "      const buttonEl =\n",
              "        document.querySelector('#df-b6ed5782-e56a-4a26-9cff-fca6d307d2de button.colab-df-convert');\n",
              "      buttonEl.style.display =\n",
              "        google.colab.kernel.accessAllowed ? 'block' : 'none';\n",
              "\n",
              "      async function convertToInteractive(key) {\n",
              "        const element = document.querySelector('#df-b6ed5782-e56a-4a26-9cff-fca6d307d2de');\n",
              "        const dataTable =\n",
              "          await google.colab.kernel.invokeFunction('convertToInteractive',\n",
              "                                                    [key], {});\n",
              "        if (!dataTable) return;\n",
              "\n",
              "        const docLinkHtml = 'Like what you see? Visit the ' +\n",
              "          '<a target=\"_blank\" href=https://colab.research.google.com/notebooks/data_table.ipynb>data table notebook</a>'\n",
              "          + ' to learn more about interactive tables.';\n",
              "        element.innerHTML = '';\n",
              "        dataTable['output_type'] = 'display_data';\n",
              "        await google.colab.output.renderOutput(dataTable, element);\n",
              "        const docLink = document.createElement('div');\n",
              "        docLink.innerHTML = docLinkHtml;\n",
              "        element.appendChild(docLink);\n",
              "      }\n",
              "    </script>\n",
              "  </div>\n",
              "\n",
              "\n",
              "    <div id=\"df-582c558b-2726-4a4c-947c-bd9512609778\">\n",
              "      <button class=\"colab-df-quickchart\" onclick=\"quickchart('df-582c558b-2726-4a4c-947c-bd9512609778')\"\n",
              "                title=\"Suggest charts\"\n",
              "                style=\"display:none;\">\n",
              "\n",
              "<svg xmlns=\"http://www.w3.org/2000/svg\" height=\"24px\"viewBox=\"0 0 24 24\"\n",
              "     width=\"24px\">\n",
              "    <g>\n",
              "        <path d=\"M19 3H5c-1.1 0-2 .9-2 2v14c0 1.1.9 2 2 2h14c1.1 0 2-.9 2-2V5c0-1.1-.9-2-2-2zM9 17H7v-7h2v7zm4 0h-2V7h2v10zm4 0h-2v-4h2v4z\"/>\n",
              "    </g>\n",
              "</svg>\n",
              "      </button>\n",
              "\n",
              "<style>\n",
              "  .colab-df-quickchart {\n",
              "      --bg-color: #E8F0FE;\n",
              "      --fill-color: #1967D2;\n",
              "      --hover-bg-color: #E2EBFA;\n",
              "      --hover-fill-color: #174EA6;\n",
              "      --disabled-fill-color: #AAA;\n",
              "      --disabled-bg-color: #DDD;\n",
              "  }\n",
              "\n",
              "  [theme=dark] .colab-df-quickchart {\n",
              "      --bg-color: #3B4455;\n",
              "      --fill-color: #D2E3FC;\n",
              "      --hover-bg-color: #434B5C;\n",
              "      --hover-fill-color: #FFFFFF;\n",
              "      --disabled-bg-color: #3B4455;\n",
              "      --disabled-fill-color: #666;\n",
              "  }\n",
              "\n",
              "  .colab-df-quickchart {\n",
              "    background-color: var(--bg-color);\n",
              "    border: none;\n",
              "    border-radius: 50%;\n",
              "    cursor: pointer;\n",
              "    display: none;\n",
              "    fill: var(--fill-color);\n",
              "    height: 32px;\n",
              "    padding: 0;\n",
              "    width: 32px;\n",
              "  }\n",
              "\n",
              "  .colab-df-quickchart:hover {\n",
              "    background-color: var(--hover-bg-color);\n",
              "    box-shadow: 0 1px 2px rgba(60, 64, 67, 0.3), 0 1px 3px 1px rgba(60, 64, 67, 0.15);\n",
              "    fill: var(--button-hover-fill-color);\n",
              "  }\n",
              "\n",
              "  .colab-df-quickchart-complete:disabled,\n",
              "  .colab-df-quickchart-complete:disabled:hover {\n",
              "    background-color: var(--disabled-bg-color);\n",
              "    fill: var(--disabled-fill-color);\n",
              "    box-shadow: none;\n",
              "  }\n",
              "\n",
              "  .colab-df-spinner {\n",
              "    border: 2px solid var(--fill-color);\n",
              "    border-color: transparent;\n",
              "    border-bottom-color: var(--fill-color);\n",
              "    animation:\n",
              "      spin 1s steps(1) infinite;\n",
              "  }\n",
              "\n",
              "  @keyframes spin {\n",
              "    0% {\n",
              "      border-color: transparent;\n",
              "      border-bottom-color: var(--fill-color);\n",
              "      border-left-color: var(--fill-color);\n",
              "    }\n",
              "    20% {\n",
              "      border-color: transparent;\n",
              "      border-left-color: var(--fill-color);\n",
              "      border-top-color: var(--fill-color);\n",
              "    }\n",
              "    30% {\n",
              "      border-color: transparent;\n",
              "      border-left-color: var(--fill-color);\n",
              "      border-top-color: var(--fill-color);\n",
              "      border-right-color: var(--fill-color);\n",
              "    }\n",
              "    40% {\n",
              "      border-color: transparent;\n",
              "      border-right-color: var(--fill-color);\n",
              "      border-top-color: var(--fill-color);\n",
              "    }\n",
              "    60% {\n",
              "      border-color: transparent;\n",
              "      border-right-color: var(--fill-color);\n",
              "    }\n",
              "    80% {\n",
              "      border-color: transparent;\n",
              "      border-right-color: var(--fill-color);\n",
              "      border-bottom-color: var(--fill-color);\n",
              "    }\n",
              "    90% {\n",
              "      border-color: transparent;\n",
              "      border-bottom-color: var(--fill-color);\n",
              "    }\n",
              "  }\n",
              "</style>\n",
              "\n",
              "      <script>\n",
              "        async function quickchart(key) {\n",
              "          const quickchartButtonEl =\n",
              "            document.querySelector('#' + key + ' button');\n",
              "          quickchartButtonEl.disabled = true;  // To prevent multiple clicks.\n",
              "          quickchartButtonEl.classList.add('colab-df-spinner');\n",
              "          try {\n",
              "            const charts = await google.colab.kernel.invokeFunction(\n",
              "                'suggestCharts', [key], {});\n",
              "          } catch (error) {\n",
              "            console.error('Error during call to suggestCharts:', error);\n",
              "          }\n",
              "          quickchartButtonEl.classList.remove('colab-df-spinner');\n",
              "          quickchartButtonEl.classList.add('colab-df-quickchart-complete');\n",
              "        }\n",
              "        (() => {\n",
              "          let quickchartButtonEl =\n",
              "            document.querySelector('#df-582c558b-2726-4a4c-947c-bd9512609778 button');\n",
              "          quickchartButtonEl.style.display =\n",
              "            google.colab.kernel.accessAllowed ? 'block' : 'none';\n",
              "        })();\n",
              "      </script>\n",
              "    </div>\n",
              "\n",
              "    </div>\n",
              "  </div>\n"
            ],
            "application/vnd.google.colaboratory.intrinsic+json": {
              "type": "dataframe",
              "summary": "{\n  \"name\": \"display(data\",\n  \"rows\": 5,\n  \"fields\": [\n    {\n      \"column\": \"week\",\n      \"properties\": {\n        \"dtype\": \"date\",\n        \"min\": \"2023-09-17 00:00:00\",\n        \"max\": \"2023-10-15 00:00:00\",\n        \"num_unique_values\": 5,\n        \"samples\": [\n          \"2023-09-24 00:00:00\",\n          \"2023-10-15 00:00:00\",\n          \"2023-10-01 00:00:00\"\n        ],\n        \"semantic_type\": \"\",\n        \"description\": \"\"\n      }\n    },\n    {\n      \"column\": \"facebook_spend\",\n      \"properties\": {\n        \"dtype\": \"number\",\n        \"std\": 764.9206455705063,\n        \"min\": 5241.44,\n        \"max\": 7167.16,\n        \"num_unique_values\": 5,\n        \"samples\": [\n          5241.44,\n          5360.29,\n          5893.0\n        ],\n        \"semantic_type\": \"\",\n        \"description\": \"\"\n      }\n    },\n    {\n      \"column\": \"google_spend\",\n      \"properties\": {\n        \"dtype\": \"number\",\n        \"std\": 1604.832897195219,\n        \"min\": 0.0,\n        \"max\": 3130.14,\n        \"num_unique_values\": 3,\n        \"samples\": [\n          3130.14,\n          2704.0,\n          0.0\n        ],\n        \"semantic_type\": \"\",\n        \"description\": \"\"\n      }\n    },\n    {\n      \"column\": \"tiktok_spend\",\n      \"properties\": {\n        \"dtype\": \"number\",\n        \"std\": 1338.608678322384,\n        \"min\": 0.0,\n        \"max\": 2993.22,\n        \"num_unique_values\": 2,\n        \"samples\": [\n          0.0,\n          2993.22\n        ],\n        \"semantic_type\": \"\",\n        \"description\": \"\"\n      }\n    },\n    {\n      \"column\": \"instagram_spend\",\n      \"properties\": {\n        \"dtype\": \"number\",\n        \"std\": 1475.7228484983216,\n        \"min\": 0.0,\n        \"max\": 3237.15,\n        \"num_unique_values\": 3,\n        \"samples\": [\n          1841.08,\n          0.0\n        ],\n        \"semantic_type\": \"\",\n        \"description\": \"\"\n      }\n    },\n    {\n      \"column\": \"snapchat_spend\",\n      \"properties\": {\n        \"dtype\": \"number\",\n        \"std\": 985.9807582706673,\n        \"min\": 0.0,\n        \"max\": 2204.72,\n        \"num_unique_values\": 2,\n        \"samples\": [\n          0.0,\n          2204.72\n        ],\n        \"semantic_type\": \"\",\n        \"description\": \"\"\n      }\n    },\n    {\n      \"column\": \"social_followers\",\n      \"properties\": {\n        \"dtype\": \"number\",\n        \"std\": 0,\n        \"min\": 0,\n        \"max\": 0,\n        \"num_unique_values\": 1,\n        \"samples\": [\n          0\n        ],\n        \"semantic_type\": \"\",\n        \"description\": \"\"\n      }\n    },\n    {\n      \"column\": \"average_price\",\n      \"properties\": {\n        \"dtype\": \"number\",\n        \"std\": 2.761796516762235,\n        \"min\": 100.38,\n        \"max\": 107.76,\n        \"num_unique_values\": 5,\n        \"samples\": [\n          103.86\n        ],\n        \"semantic_type\": \"\",\n        \"description\": \"\"\n      }\n    },\n    {\n      \"column\": \"promotions\",\n      \"properties\": {\n        \"dtype\": \"number\",\n        \"std\": 0,\n        \"min\": 0,\n        \"max\": 1,\n        \"num_unique_values\": 2,\n        \"samples\": [\n          1\n        ],\n        \"semantic_type\": \"\",\n        \"description\": \"\"\n      }\n    },\n    {\n      \"column\": \"emails_send\",\n      \"properties\": {\n        \"dtype\": \"number\",\n        \"std\": 10126,\n        \"min\": 96573,\n        \"max\": 120754,\n        \"num_unique_values\": 5,\n        \"samples\": [\n          96573\n        ],\n        \"semantic_type\": \"\",\n        \"description\": \"\"\n      }\n    },\n    {\n      \"column\": \"sms_send\",\n      \"properties\": {\n        \"dtype\": \"number\",\n        \"std\": 6821,\n        \"min\": 14171,\n        \"max\": 30207,\n        \"num_unique_values\": 5,\n        \"samples\": [\n          29920\n        ],\n        \"semantic_type\": \"\",\n        \"description\": \"\"\n      }\n    },\n    {\n      \"column\": \"revenue\",\n      \"properties\": {\n        \"dtype\": \"number\",\n        \"std\": 36936.630708470555,\n        \"min\": 373.02,\n        \"max\": 83124.16,\n        \"num_unique_values\": 5,\n        \"samples\": [\n          373.02\n        ],\n        \"semantic_type\": \"\",\n        \"description\": \"\"\n      }\n    }\n  ]\n}"
            }
          },
          "metadata": {}
        },
        {
          "output_type": "display_data",
          "data": {
            "text/plain": [
              "                      week  facebook_spend  google_spend  tiktok_spend  \\\n",
              "count                  104      104.000000    104.000000    104.000000   \n",
              "mean   2024-09-11 12:00:00     5346.302500   1543.866442    955.632212   \n",
              "min    2023-09-17 00:00:00     2456.940000      0.000000      0.000000   \n",
              "25%    2024-03-15 06:00:00     4538.977500      0.000000      0.000000   \n",
              "50%    2024-09-11 12:00:00     5293.780000      0.000000      0.000000   \n",
              "75%    2025-03-10 18:00:00     6033.325000   3374.205000   2487.172500   \n",
              "max    2025-09-07 00:00:00     9325.180000   6083.160000   4143.250000   \n",
              "std                    NaN     1168.961177   1863.350279   1376.993132   \n",
              "\n",
              "       instagram_spend  snapchat_spend  social_followers  average_price  \\\n",
              "count       104.000000      104.000000        104.000000     104.000000   \n",
              "mean       1019.342885      747.465000      72414.509615      99.962500   \n",
              "min           0.000000        0.000000          0.000000      87.560000   \n",
              "25%           0.000000        0.000000      38318.250000      94.207500   \n",
              "50%           0.000000        0.000000      81109.500000      99.490000   \n",
              "75%        2395.350000     1705.872500     110281.250000     105.395000   \n",
              "max        3877.990000     3126.040000     143477.000000     113.380000   \n",
              "std        1349.184250      982.088273      47778.448985       6.496186   \n",
              "\n",
              "       promotions    emails_send      sms_send        revenue  \n",
              "count  104.000000     104.000000    104.000000     104.000000  \n",
              "mean     0.211538  120691.067308  23623.115385   49053.945096  \n",
              "min      0.000000   68655.000000  10460.000000       1.000000  \n",
              "25%      0.000000  102971.500000  19252.500000     474.852500  \n",
              "50%      0.000000  120237.000000  22459.500000     972.065000  \n",
              "75%      0.000000  136594.000000  28107.000000   45773.732500  \n",
              "max      1.000000  185460.000000  40153.000000  398453.530000  \n",
              "std      0.410377   25158.181476   6661.362493   93329.607019  "
            ],
            "text/html": [
              "\n",
              "  <div id=\"df-e106bb51-6352-48c4-8025-d0f6af844798\" class=\"colab-df-container\">\n",
              "    <div>\n",
              "<style scoped>\n",
              "    .dataframe tbody tr th:only-of-type {\n",
              "        vertical-align: middle;\n",
              "    }\n",
              "\n",
              "    .dataframe tbody tr th {\n",
              "        vertical-align: top;\n",
              "    }\n",
              "\n",
              "    .dataframe thead th {\n",
              "        text-align: right;\n",
              "    }\n",
              "</style>\n",
              "<table border=\"1\" class=\"dataframe\">\n",
              "  <thead>\n",
              "    <tr style=\"text-align: right;\">\n",
              "      <th></th>\n",
              "      <th>week</th>\n",
              "      <th>facebook_spend</th>\n",
              "      <th>google_spend</th>\n",
              "      <th>tiktok_spend</th>\n",
              "      <th>instagram_spend</th>\n",
              "      <th>snapchat_spend</th>\n",
              "      <th>social_followers</th>\n",
              "      <th>average_price</th>\n",
              "      <th>promotions</th>\n",
              "      <th>emails_send</th>\n",
              "      <th>sms_send</th>\n",
              "      <th>revenue</th>\n",
              "    </tr>\n",
              "  </thead>\n",
              "  <tbody>\n",
              "    <tr>\n",
              "      <th>count</th>\n",
              "      <td>104</td>\n",
              "      <td>104.000000</td>\n",
              "      <td>104.000000</td>\n",
              "      <td>104.000000</td>\n",
              "      <td>104.000000</td>\n",
              "      <td>104.000000</td>\n",
              "      <td>104.000000</td>\n",
              "      <td>104.000000</td>\n",
              "      <td>104.000000</td>\n",
              "      <td>104.000000</td>\n",
              "      <td>104.000000</td>\n",
              "      <td>104.000000</td>\n",
              "    </tr>\n",
              "    <tr>\n",
              "      <th>mean</th>\n",
              "      <td>2024-09-11 12:00:00</td>\n",
              "      <td>5346.302500</td>\n",
              "      <td>1543.866442</td>\n",
              "      <td>955.632212</td>\n",
              "      <td>1019.342885</td>\n",
              "      <td>747.465000</td>\n",
              "      <td>72414.509615</td>\n",
              "      <td>99.962500</td>\n",
              "      <td>0.211538</td>\n",
              "      <td>120691.067308</td>\n",
              "      <td>23623.115385</td>\n",
              "      <td>49053.945096</td>\n",
              "    </tr>\n",
              "    <tr>\n",
              "      <th>min</th>\n",
              "      <td>2023-09-17 00:00:00</td>\n",
              "      <td>2456.940000</td>\n",
              "      <td>0.000000</td>\n",
              "      <td>0.000000</td>\n",
              "      <td>0.000000</td>\n",
              "      <td>0.000000</td>\n",
              "      <td>0.000000</td>\n",
              "      <td>87.560000</td>\n",
              "      <td>0.000000</td>\n",
              "      <td>68655.000000</td>\n",
              "      <td>10460.000000</td>\n",
              "      <td>1.000000</td>\n",
              "    </tr>\n",
              "    <tr>\n",
              "      <th>25%</th>\n",
              "      <td>2024-03-15 06:00:00</td>\n",
              "      <td>4538.977500</td>\n",
              "      <td>0.000000</td>\n",
              "      <td>0.000000</td>\n",
              "      <td>0.000000</td>\n",
              "      <td>0.000000</td>\n",
              "      <td>38318.250000</td>\n",
              "      <td>94.207500</td>\n",
              "      <td>0.000000</td>\n",
              "      <td>102971.500000</td>\n",
              "      <td>19252.500000</td>\n",
              "      <td>474.852500</td>\n",
              "    </tr>\n",
              "    <tr>\n",
              "      <th>50%</th>\n",
              "      <td>2024-09-11 12:00:00</td>\n",
              "      <td>5293.780000</td>\n",
              "      <td>0.000000</td>\n",
              "      <td>0.000000</td>\n",
              "      <td>0.000000</td>\n",
              "      <td>0.000000</td>\n",
              "      <td>81109.500000</td>\n",
              "      <td>99.490000</td>\n",
              "      <td>0.000000</td>\n",
              "      <td>120237.000000</td>\n",
              "      <td>22459.500000</td>\n",
              "      <td>972.065000</td>\n",
              "    </tr>\n",
              "    <tr>\n",
              "      <th>75%</th>\n",
              "      <td>2025-03-10 18:00:00</td>\n",
              "      <td>6033.325000</td>\n",
              "      <td>3374.205000</td>\n",
              "      <td>2487.172500</td>\n",
              "      <td>2395.350000</td>\n",
              "      <td>1705.872500</td>\n",
              "      <td>110281.250000</td>\n",
              "      <td>105.395000</td>\n",
              "      <td>0.000000</td>\n",
              "      <td>136594.000000</td>\n",
              "      <td>28107.000000</td>\n",
              "      <td>45773.732500</td>\n",
              "    </tr>\n",
              "    <tr>\n",
              "      <th>max</th>\n",
              "      <td>2025-09-07 00:00:00</td>\n",
              "      <td>9325.180000</td>\n",
              "      <td>6083.160000</td>\n",
              "      <td>4143.250000</td>\n",
              "      <td>3877.990000</td>\n",
              "      <td>3126.040000</td>\n",
              "      <td>143477.000000</td>\n",
              "      <td>113.380000</td>\n",
              "      <td>1.000000</td>\n",
              "      <td>185460.000000</td>\n",
              "      <td>40153.000000</td>\n",
              "      <td>398453.530000</td>\n",
              "    </tr>\n",
              "    <tr>\n",
              "      <th>std</th>\n",
              "      <td>NaN</td>\n",
              "      <td>1168.961177</td>\n",
              "      <td>1863.350279</td>\n",
              "      <td>1376.993132</td>\n",
              "      <td>1349.184250</td>\n",
              "      <td>982.088273</td>\n",
              "      <td>47778.448985</td>\n",
              "      <td>6.496186</td>\n",
              "      <td>0.410377</td>\n",
              "      <td>25158.181476</td>\n",
              "      <td>6661.362493</td>\n",
              "      <td>93329.607019</td>\n",
              "    </tr>\n",
              "  </tbody>\n",
              "</table>\n",
              "</div>\n",
              "    <div class=\"colab-df-buttons\">\n",
              "\n",
              "  <div class=\"colab-df-container\">\n",
              "    <button class=\"colab-df-convert\" onclick=\"convertToInteractive('df-e106bb51-6352-48c4-8025-d0f6af844798')\"\n",
              "            title=\"Convert this dataframe to an interactive table.\"\n",
              "            style=\"display:none;\">\n",
              "\n",
              "  <svg xmlns=\"http://www.w3.org/2000/svg\" height=\"24px\" viewBox=\"0 -960 960 960\">\n",
              "    <path d=\"M120-120v-720h720v720H120Zm60-500h600v-160H180v160Zm220 220h160v-160H400v160Zm0 220h160v-160H400v160ZM180-400h160v-160H180v160Zm440 0h160v-160H620v160ZM180-180h160v-160H180v160Zm440 0h160v-160H620v160Z\"/>\n",
              "  </svg>\n",
              "    </button>\n",
              "\n",
              "  <style>\n",
              "    .colab-df-container {\n",
              "      display:flex;\n",
              "      gap: 12px;\n",
              "    }\n",
              "\n",
              "    .colab-df-convert {\n",
              "      background-color: #E8F0FE;\n",
              "      border: none;\n",
              "      border-radius: 50%;\n",
              "      cursor: pointer;\n",
              "      display: none;\n",
              "      fill: #1967D2;\n",
              "      height: 32px;\n",
              "      padding: 0 0 0 0;\n",
              "      width: 32px;\n",
              "    }\n",
              "\n",
              "    .colab-df-convert:hover {\n",
              "      background-color: #E2EBFA;\n",
              "      box-shadow: 0px 1px 2px rgba(60, 64, 67, 0.3), 0px 1px 3px 1px rgba(60, 64, 67, 0.15);\n",
              "      fill: #174EA6;\n",
              "    }\n",
              "\n",
              "    .colab-df-buttons div {\n",
              "      margin-bottom: 4px;\n",
              "    }\n",
              "\n",
              "    [theme=dark] .colab-df-convert {\n",
              "      background-color: #3B4455;\n",
              "      fill: #D2E3FC;\n",
              "    }\n",
              "\n",
              "    [theme=dark] .colab-df-convert:hover {\n",
              "      background-color: #434B5C;\n",
              "      box-shadow: 0px 1px 3px 1px rgba(0, 0, 0, 0.15);\n",
              "      filter: drop-shadow(0px 1px 2px rgba(0, 0, 0, 0.3));\n",
              "      fill: #FFFFFF;\n",
              "    }\n",
              "  </style>\n",
              "\n",
              "    <script>\n",
              "      const buttonEl =\n",
              "        document.querySelector('#df-e106bb51-6352-48c4-8025-d0f6af844798 button.colab-df-convert');\n",
              "      buttonEl.style.display =\n",
              "        google.colab.kernel.accessAllowed ? 'block' : 'none';\n",
              "\n",
              "      async function convertToInteractive(key) {\n",
              "        const element = document.querySelector('#df-e106bb51-6352-48c4-8025-d0f6af844798');\n",
              "        const dataTable =\n",
              "          await google.colab.kernel.invokeFunction('convertToInteractive',\n",
              "                                                    [key], {});\n",
              "        if (!dataTable) return;\n",
              "\n",
              "        const docLinkHtml = 'Like what you see? Visit the ' +\n",
              "          '<a target=\"_blank\" href=https://colab.research.google.com/notebooks/data_table.ipynb>data table notebook</a>'\n",
              "          + ' to learn more about interactive tables.';\n",
              "        element.innerHTML = '';\n",
              "        dataTable['output_type'] = 'display_data';\n",
              "        await google.colab.output.renderOutput(dataTable, element);\n",
              "        const docLink = document.createElement('div');\n",
              "        docLink.innerHTML = docLinkHtml;\n",
              "        element.appendChild(docLink);\n",
              "      }\n",
              "    </script>\n",
              "  </div>\n",
              "\n",
              "\n",
              "    <div id=\"df-e8a1fbbb-509c-4745-b5a9-ae24c86b19be\">\n",
              "      <button class=\"colab-df-quickchart\" onclick=\"quickchart('df-e8a1fbbb-509c-4745-b5a9-ae24c86b19be')\"\n",
              "                title=\"Suggest charts\"\n",
              "                style=\"display:none;\">\n",
              "\n",
              "<svg xmlns=\"http://www.w3.org/2000/svg\" height=\"24px\"viewBox=\"0 0 24 24\"\n",
              "     width=\"24px\">\n",
              "    <g>\n",
              "        <path d=\"M19 3H5c-1.1 0-2 .9-2 2v14c0 1.1.9 2 2 2h14c1.1 0 2-.9 2-2V5c0-1.1-.9-2-2-2zM9 17H7v-7h2v7zm4 0h-2V7h2v10zm4 0h-2v-4h2v4z\"/>\n",
              "    </g>\n",
              "</svg>\n",
              "      </button>\n",
              "\n",
              "<style>\n",
              "  .colab-df-quickchart {\n",
              "      --bg-color: #E8F0FE;\n",
              "      --fill-color: #1967D2;\n",
              "      --hover-bg-color: #E2EBFA;\n",
              "      --hover-fill-color: #174EA6;\n",
              "      --disabled-fill-color: #AAA;\n",
              "      --disabled-bg-color: #DDD;\n",
              "  }\n",
              "\n",
              "  [theme=dark] .colab-df-quickchart {\n",
              "      --bg-color: #3B4455;\n",
              "      --fill-color: #D2E3FC;\n",
              "      --hover-bg-color: #434B5C;\n",
              "      --hover-fill-color: #FFFFFF;\n",
              "      --disabled-bg-color: #3B4455;\n",
              "      --disabled-fill-color: #666;\n",
              "  }\n",
              "\n",
              "  .colab-df-quickchart {\n",
              "    background-color: var(--bg-color);\n",
              "    border: none;\n",
              "    border-radius: 50%;\n",
              "    cursor: pointer;\n",
              "    display: none;\n",
              "    fill: var(--fill-color);\n",
              "    height: 32px;\n",
              "    padding: 0;\n",
              "    width: 32px;\n",
              "  }\n",
              "\n",
              "  .colab-df-quickchart:hover {\n",
              "    background-color: var(--hover-bg-color);\n",
              "    box-shadow: 0 1px 2px rgba(60, 64, 67, 0.3), 0 1px 3px 1px rgba(60, 64, 67, 0.15);\n",
              "    fill: var(--button-hover-fill-color);\n",
              "  }\n",
              "\n",
              "  .colab-df-quickchart-complete:disabled,\n",
              "  .colab-df-quickchart-complete:disabled:hover {\n",
              "    background-color: var(--disabled-bg-color);\n",
              "    fill: var(--disabled-fill-color);\n",
              "    box-shadow: none;\n",
              "  }\n",
              "\n",
              "  .colab-df-spinner {\n",
              "    border: 2px solid var(--fill-color);\n",
              "    border-color: transparent;\n",
              "    border-bottom-color: var(--fill-color);\n",
              "    animation:\n",
              "      spin 1s steps(1) infinite;\n",
              "  }\n",
              "\n",
              "  @keyframes spin {\n",
              "    0% {\n",
              "      border-color: transparent;\n",
              "      border-bottom-color: var(--fill-color);\n",
              "      border-left-color: var(--fill-color);\n",
              "    }\n",
              "    20% {\n",
              "      border-color: transparent;\n",
              "      border-left-color: var(--fill-color);\n",
              "      border-top-color: var(--fill-color);\n",
              "    }\n",
              "    30% {\n",
              "      border-color: transparent;\n",
              "      border-left-color: var(--fill-color);\n",
              "      border-top-color: var(--fill-color);\n",
              "      border-right-color: var(--fill-color);\n",
              "    }\n",
              "    40% {\n",
              "      border-color: transparent;\n",
              "      border-right-color: var(--fill-color);\n",
              "      border-top-color: var(--fill-color);\n",
              "    }\n",
              "    60% {\n",
              "      border-color: transparent;\n",
              "      border-right-color: var(--fill-color);\n",
              "    }\n",
              "    80% {\n",
              "      border-color: transparent;\n",
              "      border-right-color: var(--fill-color);\n",
              "      border-bottom-color: var(--fill-color);\n",
              "    }\n",
              "    90% {\n",
              "      border-color: transparent;\n",
              "      border-bottom-color: var(--fill-color);\n",
              "    }\n",
              "  }\n",
              "</style>\n",
              "\n",
              "      <script>\n",
              "        async function quickchart(key) {\n",
              "          const quickchartButtonEl =\n",
              "            document.querySelector('#' + key + ' button');\n",
              "          quickchartButtonEl.disabled = true;  // To prevent multiple clicks.\n",
              "          quickchartButtonEl.classList.add('colab-df-spinner');\n",
              "          try {\n",
              "            const charts = await google.colab.kernel.invokeFunction(\n",
              "                'suggestCharts', [key], {});\n",
              "          } catch (error) {\n",
              "            console.error('Error during call to suggestCharts:', error);\n",
              "          }\n",
              "          quickchartButtonEl.classList.remove('colab-df-spinner');\n",
              "          quickchartButtonEl.classList.add('colab-df-quickchart-complete');\n",
              "        }\n",
              "        (() => {\n",
              "          let quickchartButtonEl =\n",
              "            document.querySelector('#df-e8a1fbbb-509c-4745-b5a9-ae24c86b19be button');\n",
              "          quickchartButtonEl.style.display =\n",
              "            google.colab.kernel.accessAllowed ? 'block' : 'none';\n",
              "        })();\n",
              "      </script>\n",
              "    </div>\n",
              "\n",
              "    </div>\n",
              "  </div>\n"
            ],
            "application/vnd.google.colaboratory.intrinsic+json": {
              "type": "dataframe",
              "summary": "{\n  \"name\": \"display(data\",\n  \"rows\": 8,\n  \"fields\": [\n    {\n      \"column\": \"week\",\n      \"properties\": {\n        \"dtype\": \"date\",\n        \"min\": \"1970-01-01 00:00:00.000000104\",\n        \"max\": \"2025-09-07 00:00:00\",\n        \"num_unique_values\": 6,\n        \"samples\": [\n          \"104\",\n          \"2024-09-11 12:00:00\",\n          \"2025-09-07 00:00:00\"\n        ],\n        \"semantic_type\": \"\",\n        \"description\": \"\"\n      }\n    },\n    {\n      \"column\": \"facebook_spend\",\n      \"properties\": {\n        \"dtype\": \"number\",\n        \"std\": 2956.8516573831157,\n        \"min\": 104.0,\n        \"max\": 9325.18,\n        \"num_unique_values\": 8,\n        \"samples\": [\n          5346.302500000001,\n          6033.325,\n          104.0\n        ],\n        \"semantic_type\": \"\",\n        \"description\": \"\"\n      }\n    },\n    {\n      \"column\": \"google_spend\",\n      \"properties\": {\n        \"dtype\": \"number\",\n        \"std\": 2178.908469810644,\n        \"min\": 0.0,\n        \"max\": 6083.16,\n        \"num_unique_values\": 6,\n        \"samples\": [\n          104.0,\n          1543.866442307692,\n          1863.3502788126812\n        ],\n        \"semantic_type\": \"\",\n        \"description\": \"\"\n      }\n    },\n    {\n      \"column\": \"tiktok_spend\",\n      \"properties\": {\n        \"dtype\": \"number\",\n        \"std\": 1506.9499490110954,\n        \"min\": 0.0,\n        \"max\": 4143.25,\n        \"num_unique_values\": 6,\n        \"samples\": [\n          104.0,\n          955.6322115384615,\n          1376.9931316663233\n        ],\n        \"semantic_type\": \"\",\n        \"description\": \"\"\n      }\n    },\n    {\n      \"column\": \"instagram_spend\",\n      \"properties\": {\n        \"dtype\": \"number\",\n        \"std\": 1418.5207651057972,\n        \"min\": 0.0,\n        \"max\": 3877.99,\n        \"num_unique_values\": 6,\n        \"samples\": [\n          104.0,\n          1019.3428846153846,\n          1349.1842496746845\n        ],\n        \"semantic_type\": \"\",\n        \"description\": \"\"\n      }\n    },\n    {\n      \"column\": \"snapchat_spend\",\n      \"properties\": {\n        \"dtype\": \"number\",\n        \"std\": 1112.435559845714,\n        \"min\": 0.0,\n        \"max\": 3126.04,\n        \"num_unique_values\": 6,\n        \"samples\": [\n          104.0,\n          747.4649999999999,\n          982.0882729955291\n        ],\n        \"semantic_type\": \"\",\n        \"description\": \"\"\n      }\n    },\n    {\n      \"column\": \"social_followers\",\n      \"properties\": {\n        \"dtype\": \"number\",\n        \"std\": 50540.81279591831,\n        \"min\": 0.0,\n        \"max\": 143477.0,\n        \"num_unique_values\": 8,\n        \"samples\": [\n          72414.50961538461,\n          110281.25,\n          104.0\n        ],\n        \"semantic_type\": \"\",\n        \"description\": \"\"\n      }\n    },\n    {\n      \"column\": \"average_price\",\n      \"properties\": {\n        \"dtype\": \"number\",\n        \"std\": 34.13038716903932,\n        \"min\": 6.496186297187526,\n        \"max\": 113.38,\n        \"num_unique_values\": 8,\n        \"samples\": [\n          99.9625,\n          105.395,\n          104.0\n        ],\n        \"semantic_type\": \"\",\n        \"description\": \"\"\n      }\n    },\n    {\n      \"column\": \"promotions\",\n      \"properties\": {\n        \"dtype\": \"number\",\n        \"std\": 36.68926376680646,\n        \"min\": 0.0,\n        \"max\": 104.0,\n        \"num_unique_values\": 5,\n        \"samples\": [\n          0.21153846153846154,\n          0.41037697382074206,\n          0.0\n        ],\n        \"semantic_type\": \"\",\n        \"description\": \"\"\n      }\n    },\n    {\n      \"column\": \"emails_send\",\n      \"properties\": {\n        \"dtype\": \"number\",\n        \"std\": 60769.754841103386,\n        \"min\": 104.0,\n        \"max\": 185460.0,\n        \"num_unique_values\": 8,\n        \"samples\": [\n          120691.06730769231,\n          136594.0,\n          104.0\n        ],\n        \"semantic_type\": \"\",\n        \"description\": \"\"\n      }\n    },\n    {\n      \"column\": \"sms_send\",\n      \"properties\": {\n        \"dtype\": \"number\",\n        \"std\": 12794.253357563364,\n        \"min\": 104.0,\n        \"max\": 40153.0,\n        \"num_unique_values\": 8,\n        \"samples\": [\n          23623.115384615383,\n          28107.0,\n          104.0\n        ],\n        \"semantic_type\": \"\",\n        \"description\": \"\"\n      }\n    },\n    {\n      \"column\": \"revenue\",\n      \"properties\": {\n        \"dtype\": \"number\",\n        \"std\": 135613.11120419137,\n        \"min\": 1.0,\n        \"max\": 398453.53,\n        \"num_unique_values\": 8,\n        \"samples\": [\n          49053.945096153846,\n          45773.7325,\n          104.0\n        ],\n        \"semantic_type\": \"\",\n        \"description\": \"\"\n      }\n    }\n  ]\n}"
            }
          },
          "metadata": {}
        }
      ]
    },
    {
      "cell_type": "markdown",
      "source": [
        "**Generate full weekly range and identify any missing weeks in the dataset**\n"
      ],
      "metadata": {
        "id": "oOiYMsQ9NdO6"
      }
    },
    {
      "cell_type": "code",
      "source": [
        "full_weeks = pd.date_range(start=data['week'].min(), end=data['week'].max(), freq='W-SUN')\n",
        "missing = full_weeks.difference(data['week'])\n",
        "print('missing weeks:', missing)\n"
      ],
      "metadata": {
        "colab": {
          "base_uri": "https://localhost:8080/"
        },
        "id": "1dMncJo21WU6",
        "outputId": "e4d6b593-a68a-4bf5-fe18-bf23c7bbead5"
      },
      "execution_count": 6,
      "outputs": [
        {
          "output_type": "stream",
          "name": "stdout",
          "text": [
            "missing weeks: DatetimeIndex([], dtype='datetime64[ns]', freq='W-SUN')\n"
          ]
        }
      ]
    },
    {
      "cell_type": "markdown",
      "source": [
        "**Add missing weeks to the dataset with 0 values for other columns, then sort and reset index**\n",
        "\n"
      ],
      "metadata": {
        "id": "xFkTddz6Nriw"
      }
    },
    {
      "cell_type": "code",
      "source": [
        "if len(missing) > 0:\n",
        "    empty = pd.DataFrame({'week': missing})\n",
        "    for c in data.columns:\n",
        "        if c != 'week':\n",
        "            empty[c] = 0\n",
        "    data = pd.concat([data, empty], ignore_index=True).sort_values('week').reset_index(drop=True)\n"
      ],
      "metadata": {
        "id": "lNyRWy696Ta2"
      },
      "execution_count": 7,
      "outputs": []
    },
    {
      "cell_type": "markdown",
      "source": [
        "**Remove duplicate weeks and reset index**\n"
      ],
      "metadata": {
        "id": "cGYQ0BXMN7xG"
      }
    },
    {
      "cell_type": "code",
      "source": [
        "data = data.drop_duplicates(subset='week').reset_index(drop=True)\n"
      ],
      "metadata": {
        "id": "wgbYXx-i6WMF"
      },
      "execution_count": 8,
      "outputs": []
    },
    {
      "cell_type": "markdown",
      "source": [
        "**Plot weekly revenue trend over time**\n"
      ],
      "metadata": {
        "id": "W2Hb502TOUBm"
      }
    },
    {
      "cell_type": "code",
      "source": [
        "plt.figure(figsize=(12,4))\n",
        "plt.plot(data['week'], data['revenue'], marker='o', linewidth=1)\n",
        "plt.title('Weekly revenue')\n",
        "plt.ylabel('Revenue')\n",
        "plt.xlabel('Week')\n",
        "plt.grid(True)\n",
        "plt.show()\n"
      ],
      "metadata": {
        "colab": {
          "base_uri": "https://localhost:8080/",
          "height": 410
        },
        "id": "LpxLzp4k6YEW",
        "outputId": "099c998f-c81c-4bad-a22c-e4b62ce085d1"
      },
      "execution_count": 9,
      "outputs": [
        {
          "output_type": "display_data",
          "data": {
            "text/plain": [
              "<Figure size 1200x400 with 1 Axes>"
            ],
            "image/png": "[encoded data removed]"
          },
          "metadata": {}
        }
      ]
    },
    {
      "cell_type": "markdown",
      "source": [
        "**Add time index, week number, month, and year features from 'week' column**\n"
      ],
      "metadata": {
        "id": "6Q6rUvbNOnGB"
      }
    },
    {
      "cell_type": "code",
      "source": [
        "data['t'] = np.arange(len(data))\n",
        "data['week_of_year'] = data['week'].dt.isocalendar().week\n",
        "data['month'] = data['week'].dt.month\n",
        "data['year'] = data['week'].dt.year\n"
      ],
      "metadata": {
        "id": "-4wO5aHI6Z05"
      },
      "execution_count": 10,
      "outputs": []
    },
    {
      "cell_type": "markdown",
      "source": [
        " **Add Fourier series terms to model annual seasonality (period=52 weeks, 3 harmonics)**\n",
        "\n",
        "\n",
        "\n"
      ],
      "metadata": {
        "id": "AGGu5lSxPUW_"
      }
    },
    {
      "cell_type": "code",
      "source": [
        "def fourier_series(df, period=52, order=3, prefix='annual'):\n",
        "    t = np.arange(len(df))\n",
        "    for k in range(1, order+1):\n",
        "        df[f'{prefix}_sin_{k}'] = np.sin(2*np.pi*k*t/period)\n",
        "        df[f'{prefix}_cos_{k}'] = np.cos(2*np.pi*k*t/period)\n",
        "    return df\n",
        "\n",
        "data = fourier_series(data, period=52, order=3, prefix='annual')\n"
      ],
      "metadata": {
        "id": "mVV-cNHE6np8"
      },
      "execution_count": 11,
      "outputs": []
    },
    {
      "cell_type": "markdown",
      "source": [
        " **Create lag features (1–4 weeks) for ad spend and revenue to capture delayed effects**\n"
      ],
      "metadata": {
        "id": "P7AMA_U_P4Jg"
      }
    },
    {
      "cell_type": "code",
      "source": [
        "lags = [1,2,3,4]\n",
        "cols_to_lag = ['facebook_spend','tiktok_spend','instagram_spend','snapchat_spend','google_spend','revenue']\n",
        "for col in cols_to_lag:\n",
        "    for lag in lags:\n",
        "        data[f'{col}_lag{lag}'] = data[col].shift(lag)\n"
      ],
      "metadata": {
        "id": "w_zLGbQt6pZD"
      },
      "execution_count": 12,
      "outputs": []
    },
    {
      "cell_type": "markdown",
      "source": [
        "**Apply adstock transformation to model diminishing carryover effects of past ad spend**\n"
      ],
      "metadata": {
        "id": "va78j3WoZQRT"
      }
    },
    {
      "cell_type": "code",
      "source": [
        "def adstock(series, decay):\n",
        "    out = np.zeros(len(series))\n",
        "    for i in range(len(series)):\n",
        "        if i == 0:\n",
        "            out[i] = series.iloc[i]\n",
        "        else:\n",
        "            out[i] = series.iloc[i] + decay * out[i-1]\n",
        "    return pd.Series(out, index=series.index)\n",
        "\n",
        "\n",
        "data['facebook_adstock'] = adstock(data['facebook_spend'], decay=0.5)\n",
        "data['tiktok_adstock']   = adstock(data['tiktok_spend'], decay=0.5)\n",
        "data['instagram_adstock'] = adstock(data['instagram_spend'], decay=0.5)\n",
        "data['snapchat_adstock'] = adstock(data['snapchat_spend'], decay=0.5)\n",
        "data['google_adstock']    = adstock(data['google_spend'], decay=0.5)\n",
        "\n",
        "\n"
      ],
      "metadata": {
        "id": "qdDL07016sE8"
      },
      "execution_count": 13,
      "outputs": []
    },
    {
      "cell_type": "markdown",
      "source": [
        "**Clip negative values to 0 and apply log(1+x) transform to stabilize variance and model diminishing returns**\n"
      ],
      "metadata": {
        "id": "prDDhuQKZjhH"
      }
    },
    {
      "cell_type": "code",
      "source": [
        "\n",
        "\n",
        "\n",
        "spend_cols = ['facebook_spend','tiktok_spend','instagram_spend','snapchat_spend','google_spend']\n",
        "\n",
        "\n",
        "data[spend_cols] = data[spend_cols].clip(lower=0)\n",
        "data['revenue'] = data['revenue'].clip(lower=0)\n",
        "data['average_price'] = data['average_price'].clip(lower=0)\n",
        "\n",
        "\n",
        "for c in spend_cols:\n",
        "    data[f'log1p_{c}'] = np.log1p(data[c])\n",
        "\n",
        "data['log1p_revenue'] = np.log1p(data['revenue'])\n",
        "data['log_price'] = np.log1p(data['average_price'])\n",
        "\n"
      ],
      "metadata": {
        "id": "4ewWXup_6tyW"
      },
      "execution_count": 14,
      "outputs": []
    },
    {
      "cell_type": "markdown",
      "source": [
        " **Standardize numeric feature columns (mean=0, std=1) for modeling**\n"
      ],
      "metadata": {
        "id": "dlS-UR59Z4zj"
      }
    },
    {
      "cell_type": "code",
      "source": [
        "from sklearn.preprocessing import StandardScaler\n",
        "num_cols = data.select_dtypes(include=['float64','int64']).columns.tolist()\n",
        "\n",
        "non_features = ['year','week_of_year','month','t','week']\n",
        "for nf in non_features:\n",
        "    if nf in num_cols:\n",
        "        num_cols.remove(nf)\n",
        "\n",
        "scaler = StandardScaler()\n",
        "data[num_cols] = scaler.fit_transform(data[num_cols])\n"
      ],
      "metadata": {
        "id": "agUgDiRa6v8d"
      },
      "execution_count": 15,
      "outputs": []
    },
    {
      "cell_type": "markdown",
      "source": [
        " **Drop rows with missing values and reset index**\n"
      ],
      "metadata": {
        "id": "D5HggGxLaDYE"
      }
    },
    {
      "cell_type": "code",
      "source": [
        "data = data.dropna().reset_index(drop=True)\n"
      ],
      "metadata": {
        "id": "z5FDi3sh6ySe"
      },
      "execution_count": 16,
      "outputs": []
    },
    {
      "cell_type": "markdown",
      "source": [
        "**Compute and display correlation matrix among ad spend channels**\n"
      ],
      "metadata": {
        "id": "IiDc5b56aRTd"
      }
    },
    {
      "cell_type": "code",
      "source": [
        "corr = data.corr()\n",
        "\n",
        "print(corr.loc[spend_cols + ['google_spend'], spend_cols + ['google_spend']])\n"
      ],
      "metadata": {
        "colab": {
          "base_uri": "https://localhost:8080/"
        },
        "id": "gci6_rDE62G7",
        "outputId": "d787488a-f13a-4a64-cb6e-aaed9510b16c"
      },
      "execution_count": 17,
      "outputs": [
        {
          "output_type": "stream",
          "name": "stdout",
          "text": [
            "                 facebook_spend  tiktok_spend  instagram_spend  \\\n",
            "facebook_spend         1.000000      0.116502         0.045594   \n",
            "tiktok_spend           0.116502      1.000000         0.031476   \n",
            "instagram_spend        0.045594      0.031476         1.000000   \n",
            "snapchat_spend         0.055274      0.178313         0.154265   \n",
            "google_spend          -0.028237     -0.055505         0.074438   \n",
            "google_spend          -0.028237     -0.055505         0.074438   \n",
            "\n",
            "                 snapchat_spend  google_spend  google_spend  \n",
            "facebook_spend         0.055274     -0.028237     -0.028237  \n",
            "tiktok_spend           0.178313     -0.055505     -0.055505  \n",
            "instagram_spend        0.154265      0.074438      0.074438  \n",
            "snapchat_spend         1.000000      0.044981      0.044981  \n",
            "google_spend           0.044981      1.000000      1.000000  \n",
            "google_spend           0.044981      1.000000      1.000000  \n"
          ]
        }
      ]
    },
    {
      "cell_type": "markdown",
      "source": [
        "**Export cleaned dataset to CSV without row indices**\n"
      ],
      "metadata": {
        "id": "i8Qk9hO-aoMR"
      }
    },
    {
      "cell_type": "code",
      "source": [
        "data.to_csv('cleaned_data.csv', index=False)\n"
      ],
      "metadata": {
        "id": "UOX4vSTZ65Sm"
      },
      "execution_count": 18,
      "outputs": []
    },
    {
      "cell_type": "code",
      "source": [
        "\n",
        "\n"
      ],
      "metadata": {
        "id": "5JpxVyJS6-Ql"
      },
      "execution_count": 18,
      "outputs": []
    }
  ]
}